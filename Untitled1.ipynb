{
  "nbformat": 4,
  "nbformat_minor": 0,
  "metadata": {
    "colab": {
      "provenance": []
    },
    "kernelspec": {
      "name": "python3",
      "display_name": "Python 3"
    },
    "language_info": {
      "name": "python"
    }
  },
  "cells": [
    {
      "cell_type": "code",
      "execution_count": null,
      "metadata": {
        "id": "PUDr6nYFAouU"
      },
      "outputs": [],
      "source": [
        "n = int(input(\"請輸入數字\"))\n",
        "for i in range(1,n+1):\n",
        " for j in range(1,n+1):\n",
        "  product = i * j\n",
        "  print(f\"{i}*{j}={product}\")"
      ]
    },
    {
      "cell_type": "code",
      "source": [
        "print(\"歡迎參加猜數字遊戲!\")\n",
        "import random\n",
        "target_number = random.randint(1,100)\n",
        "\n",
        "while True:\n",
        "  b = int(input('輸入1~99的數字'))\n",
        "  if b < target_number:\n",
        "    print(\"數字太小，再一次!\")\n",
        "  elif b > target_number:\n",
        "    print(\"數字太大，再一次!\")\n",
        "  elif b == target_number:\n",
        "    print(\"猜對了\")\n",
        "    break\n",
        "\n",
        "print(\"遊戲結束。\")"
      ],
      "metadata": {
        "id": "ctqbZA9lAphP"
      },
      "execution_count": null,
      "outputs": []
    }
  ]
}