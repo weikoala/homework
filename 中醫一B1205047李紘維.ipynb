{
  "nbformat": 4,
  "nbformat_minor": 0,
  "metadata": {
    "colab": {
      "provenance": []
    },
    "kernelspec": {
      "name": "python3",
      "display_name": "Python 3"
    },
    "language_info": {
      "name": "python"
    }
  },
  "cells": [
    {
      "cell_type": "code",
      "source": [
        "name = \"李紘維\"\n",
        "id = \"B1205047\"\n",
        "me = [name,id]\n",
        "print(me)\n",
        "print(type(name),type(id))"
      ],
      "metadata": {
        "colab": {
          "base_uri": "https://localhost:8080/"
        },
        "id": "aqNyPdQu9z5G",
        "outputId": "99aa3b8b-9d70-4895-e775-e160e0d89e3a"
      },
      "execution_count": 1,
      "outputs": [
        {
          "output_type": "stream",
          "name": "stdout",
          "text": [
            "['李紘維', 'B1205047']\n",
            "<class 'str'> <class 'str'>\n"
          ]
        }
      ]
    },
    {
      "cell_type": "code",
      "source": [],
      "metadata": {
        "id": "b_03kV9w-kou"
      },
      "execution_count": null,
      "outputs": []
    },
    {
      "cell_type": "code",
      "execution_count": null,
      "metadata": {
        "id": "g9e6Genq9xSK"
      },
      "outputs": [],
      "source": []
    }
  ]
}